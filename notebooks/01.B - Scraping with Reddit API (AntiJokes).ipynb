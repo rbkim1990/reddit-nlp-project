{
 "cells": [
  {
   "cell_type": "markdown",
   "metadata": {},
   "source": [
    "# Data Collection from Reddit (/r/AntiJokes)"
   ]
  },
  {
   "cell_type": "markdown",
   "metadata": {},
   "source": [
    "_This notebook is dedicated to collecting data from the Reddit API. For this specific project, I have decided to compare the two subreddits, /r/Jokes and /r/AntiJokes. The motivation for choosing these two subreddits is twofold: one, to see if I can use machine learning classification models to distinguish if a post if from one of the two subreddits and two, to begin thinking about whether or not humor is something that can be reduced to an algorithm of word counting. I realize that the second goal is extremely lofty and is way beyond the scope of this project, but I hope to gain even a little bit of insight._ "
   ]
  },
  {
   "cell_type": "code",
   "execution_count": 1,
   "metadata": {},
   "outputs": [],
   "source": [
    "import requests\n",
    "import time\n",
    "import pandas as pd"
   ]
  },
  {
   "cell_type": "code",
   "execution_count": 19,
   "metadata": {},
   "outputs": [],
   "source": [
    "headers = {'User-agent' : 'Roy Bot 0.6'}"
   ]
  },
  {
   "cell_type": "code",
   "execution_count": null,
   "metadata": {
    "scrolled": true
   },
   "outputs": [],
   "source": [
    "# ['selftext'] returns content of the post\n",
    "# ['subreddit'] returns the subreddit, which is the target\n",
    "# ['title'] returns the title\n",
    "# ['score'] returns upvotes - downvotes\n",
    "# ['permalink'] returns the permanent link to get comments\n",
    "# ['author'] returns the name of the author of the post\n",
    "# ['num_comments'] returns the number of comments"
   ]
  },
  {
   "cell_type": "code",
   "execution_count": 4,
   "metadata": {},
   "outputs": [],
   "source": [
    "posts = []\n",
    "after = None"
   ]
  },
  {
   "cell_type": "code",
   "execution_count": 20,
   "metadata": {
    "scrolled": true
   },
   "outputs": [
    {
     "name": "stdout",
     "output_type": "stream",
     "text": [
      "0\n",
      "1\n",
      "2\n",
      "3\n",
      "4\n",
      "5\n",
      "6\n",
      "7\n",
      "8\n",
      "9\n",
      "10\n",
      "11\n",
      "12\n",
      "13\n",
      "14\n",
      "15\n",
      "16\n",
      "17\n",
      "18\n",
      "19\n",
      "20\n",
      "21\n",
      "22\n",
      "23\n",
      "24\n",
      "25\n",
      "26\n",
      "27\n",
      "28\n",
      "29\n",
      "30\n",
      "31\n",
      "32\n",
      "33\n",
      "34\n",
      "35\n",
      "36\n"
     ]
    },
    {
     "ename": "IndexError",
     "evalue": "list index out of range",
     "output_type": "error",
     "traceback": [
      "\u001b[0;31m---------------------------------------------------------------------------\u001b[0m",
      "\u001b[0;31mIndexError\u001b[0m                                Traceback (most recent call last)",
      "\u001b[0;32m<ipython-input-20-874d17c1e162>\u001b[0m in \u001b[0;36m<module>\u001b[0;34m\u001b[0m\n\u001b[1;32m     11\u001b[0m         \u001b[0;32mfor\u001b[0m \u001b[0mj\u001b[0m \u001b[0;32min\u001b[0m \u001b[0mrange\u001b[0m\u001b[0;34m(\u001b[0m\u001b[0;36m25\u001b[0m\u001b[0;34m)\u001b[0m\u001b[0;34m:\u001b[0m\u001b[0;34m\u001b[0m\u001b[0m\n\u001b[1;32m     12\u001b[0m             \u001b[0mentry\u001b[0m \u001b[0;34m=\u001b[0m \u001b[0;34m{\u001b[0m\u001b[0;34m}\u001b[0m\u001b[0;34m\u001b[0m\u001b[0m\n\u001b[0;32m---> 13\u001b[0;31m             \u001b[0mentry\u001b[0m\u001b[0;34m[\u001b[0m\u001b[0;34m'selftext'\u001b[0m\u001b[0;34m]\u001b[0m \u001b[0;34m=\u001b[0m \u001b[0mdata\u001b[0m\u001b[0;34m[\u001b[0m\u001b[0;34m'data'\u001b[0m\u001b[0;34m]\u001b[0m\u001b[0;34m[\u001b[0m\u001b[0;34m'children'\u001b[0m\u001b[0;34m]\u001b[0m\u001b[0;34m[\u001b[0m\u001b[0mj\u001b[0m\u001b[0;34m]\u001b[0m\u001b[0;34m[\u001b[0m\u001b[0;34m'data'\u001b[0m\u001b[0;34m]\u001b[0m\u001b[0;34m[\u001b[0m\u001b[0;34m'selftext'\u001b[0m\u001b[0;34m]\u001b[0m\u001b[0;34m\u001b[0m\u001b[0m\n\u001b[0m\u001b[1;32m     14\u001b[0m             \u001b[0mentry\u001b[0m\u001b[0;34m[\u001b[0m\u001b[0;34m'subreddit'\u001b[0m\u001b[0;34m]\u001b[0m \u001b[0;34m=\u001b[0m \u001b[0mdata\u001b[0m\u001b[0;34m[\u001b[0m\u001b[0;34m'data'\u001b[0m\u001b[0;34m]\u001b[0m\u001b[0;34m[\u001b[0m\u001b[0;34m'children'\u001b[0m\u001b[0;34m]\u001b[0m\u001b[0;34m[\u001b[0m\u001b[0mj\u001b[0m\u001b[0;34m]\u001b[0m\u001b[0;34m[\u001b[0m\u001b[0;34m'data'\u001b[0m\u001b[0;34m]\u001b[0m\u001b[0;34m[\u001b[0m\u001b[0;34m'subreddit'\u001b[0m\u001b[0;34m]\u001b[0m\u001b[0;34m\u001b[0m\u001b[0m\n\u001b[1;32m     15\u001b[0m             \u001b[0mentry\u001b[0m\u001b[0;34m[\u001b[0m\u001b[0;34m'title'\u001b[0m\u001b[0;34m]\u001b[0m \u001b[0;34m=\u001b[0m \u001b[0mdata\u001b[0m\u001b[0;34m[\u001b[0m\u001b[0;34m'data'\u001b[0m\u001b[0;34m]\u001b[0m\u001b[0;34m[\u001b[0m\u001b[0;34m'children'\u001b[0m\u001b[0;34m]\u001b[0m\u001b[0;34m[\u001b[0m\u001b[0mj\u001b[0m\u001b[0;34m]\u001b[0m\u001b[0;34m[\u001b[0m\u001b[0;34m'data'\u001b[0m\u001b[0;34m]\u001b[0m\u001b[0;34m[\u001b[0m\u001b[0;34m'title'\u001b[0m\u001b[0;34m]\u001b[0m\u001b[0;34m\u001b[0m\u001b[0m\n",
      "\u001b[0;31mIndexError\u001b[0m: list index out of range"
     ]
    }
   ],
   "source": [
    "for i in range(40):\n",
    "    print(i)\n",
    "    if after == None:\n",
    "        params = {}\n",
    "    else: \n",
    "        params = {'after' : after}\n",
    "    url = \"https://www.reddit.com/r/antijokes.json\"\n",
    "    res = requests.get(url, params=params, headers=headers)\n",
    "    if res.status_code == 200:\n",
    "        data = res.json()\n",
    "        for j in range(25):\n",
    "            entry = {}\n",
    "            entry['selftext'] = data['data']['children'][j]['data']['selftext']\n",
    "            entry['subreddit'] = data['data']['children'][j]['data']['subreddit']\n",
    "            entry['title'] = data['data']['children'][j]['data']['title']\n",
    "            entry['score'] = data['data']['children'][j]['data']['score']\n",
    "            entry['permalink'] = data['data']['children'][j]['data']['permalink']\n",
    "            entry['author'] = data['data']['children'][j]['data']['author']\n",
    "            entry['num_comments'] = data['data']['children'][j]['data']['num_comments']\n",
    "            posts.append(entry)\n",
    "            after = data['data']['after']\n",
    "    else: \n",
    "        print(res.status_code)\n",
    "        break\n",
    "    time.sleep(1)"
   ]
  },
  {
   "cell_type": "code",
   "execution_count": 21,
   "metadata": {
    "scrolled": false
   },
   "outputs": [
    {
     "data": {
      "text/plain": [
       "5472"
      ]
     },
     "execution_count": 21,
     "metadata": {},
     "output_type": "execute_result"
    }
   ],
   "source": [
    "len(posts)"
   ]
  },
  {
   "cell_type": "code",
   "execution_count": 22,
   "metadata": {},
   "outputs": [],
   "source": [
    "df = pd.DataFrame(posts)"
   ]
  },
  {
   "cell_type": "markdown",
   "metadata": {},
   "source": [
    "_I grabbed about 5400 posts from the AntiJokes subreddit._"
   ]
  },
  {
   "cell_type": "code",
   "execution_count": 23,
   "metadata": {},
   "outputs": [],
   "source": [
    "df.to_csv('./datasets/antijokes.csv', index=False)"
   ]
  },
  {
   "cell_type": "code",
   "execution_count": 24,
   "metadata": {},
   "outputs": [
    {
     "data": {
      "text/html": [
       "<div>\n",
       "<style scoped>\n",
       "    .dataframe tbody tr th:only-of-type {\n",
       "        vertical-align: middle;\n",
       "    }\n",
       "\n",
       "    .dataframe tbody tr th {\n",
       "        vertical-align: top;\n",
       "    }\n",
       "\n",
       "    .dataframe thead th {\n",
       "        text-align: right;\n",
       "    }\n",
       "</style>\n",
       "<table border=\"1\" class=\"dataframe\">\n",
       "  <thead>\n",
       "    <tr style=\"text-align: right;\">\n",
       "      <th></th>\n",
       "      <th>author</th>\n",
       "      <th>num_comments</th>\n",
       "      <th>permalink</th>\n",
       "      <th>score</th>\n",
       "      <th>selftext</th>\n",
       "      <th>subreddit</th>\n",
       "      <th>title</th>\n",
       "    </tr>\n",
       "  </thead>\n",
       "  <tbody>\n",
       "    <tr>\n",
       "      <th>0</th>\n",
       "      <td>zuluportero</td>\n",
       "      <td>101</td>\n",
       "      <td>/r/AntiJokes/comments/91gkoc/difference_betwee...</td>\n",
       "      <td>2582</td>\n",
       "      <td>Anti joke: Why did Jimmy drop his ice cream? B...</td>\n",
       "      <td>AntiJokes</td>\n",
       "      <td>Difference between an Anti Joke and just two s...</td>\n",
       "    </tr>\n",
       "    <tr>\n",
       "      <th>1</th>\n",
       "      <td>thesushipanda</td>\n",
       "      <td>26</td>\n",
       "      <td>/r/AntiJokes/comments/a61n3v/you_know_whats_be...</td>\n",
       "      <td>851</td>\n",
       "      <td>Having real legs.</td>\n",
       "      <td>AntiJokes</td>\n",
       "      <td>You know what's better than getting a pair of ...</td>\n",
       "    </tr>\n",
       "    <tr>\n",
       "      <th>2</th>\n",
       "      <td>Singlecoiled</td>\n",
       "      <td>32</td>\n",
       "      <td>/r/AntiJokes/comments/a5song/im_on_a_seafood_d...</td>\n",
       "      <td>1510</td>\n",
       "      <td>...when I see food, I eat it! Although only if...</td>\n",
       "      <td>AntiJokes</td>\n",
       "      <td>I'm on a seafood diet...</td>\n",
       "    </tr>\n",
       "    <tr>\n",
       "      <th>3</th>\n",
       "      <td>WhyIsThatSoGroovy</td>\n",
       "      <td>1</td>\n",
       "      <td>/r/AntiJokes/comments/a64zl0/a_guy_walked_into...</td>\n",
       "      <td>7</td>\n",
       "      <td>It gave him a black eye.</td>\n",
       "      <td>AntiJokes</td>\n",
       "      <td>A guy walked into a bar...</td>\n",
       "    </tr>\n",
       "    <tr>\n",
       "      <th>4</th>\n",
       "      <td>098765four</td>\n",
       "      <td>1</td>\n",
       "      <td>/r/AntiJokes/comments/a65qna/hey_is_your_refri...</td>\n",
       "      <td>4</td>\n",
       "      <td>If you said yes, you need to run away immediat...</td>\n",
       "      <td>AntiJokes</td>\n",
       "      <td>Hey, is your refrigerator running?</td>\n",
       "    </tr>\n",
       "  </tbody>\n",
       "</table>\n",
       "</div>"
      ],
      "text/plain": [
       "              author  num_comments  \\\n",
       "0        zuluportero           101   \n",
       "1      thesushipanda            26   \n",
       "2       Singlecoiled            32   \n",
       "3  WhyIsThatSoGroovy             1   \n",
       "4         098765four             1   \n",
       "\n",
       "                                           permalink  score  \\\n",
       "0  /r/AntiJokes/comments/91gkoc/difference_betwee...   2582   \n",
       "1  /r/AntiJokes/comments/a61n3v/you_know_whats_be...    851   \n",
       "2  /r/AntiJokes/comments/a5song/im_on_a_seafood_d...   1510   \n",
       "3  /r/AntiJokes/comments/a64zl0/a_guy_walked_into...      7   \n",
       "4  /r/AntiJokes/comments/a65qna/hey_is_your_refri...      4   \n",
       "\n",
       "                                            selftext  subreddit  \\\n",
       "0  Anti joke: Why did Jimmy drop his ice cream? B...  AntiJokes   \n",
       "1                                 Having real legs.   AntiJokes   \n",
       "2  ...when I see food, I eat it! Although only if...  AntiJokes   \n",
       "3                           It gave him a black eye.  AntiJokes   \n",
       "4  If you said yes, you need to run away immediat...  AntiJokes   \n",
       "\n",
       "                                               title  \n",
       "0  Difference between an Anti Joke and just two s...  \n",
       "1  You know what's better than getting a pair of ...  \n",
       "2                           I'm on a seafood diet...  \n",
       "3                         A guy walked into a bar...  \n",
       "4                 Hey, is your refrigerator running?  "
      ]
     },
     "execution_count": 24,
     "metadata": {},
     "output_type": "execute_result"
    }
   ],
   "source": [
    "df.head()"
   ]
  },
  {
   "cell_type": "code",
   "execution_count": 25,
   "metadata": {
    "scrolled": true
   },
   "outputs": [
    {
     "data": {
      "text/html": [
       "<div>\n",
       "<style scoped>\n",
       "    .dataframe tbody tr th:only-of-type {\n",
       "        vertical-align: middle;\n",
       "    }\n",
       "\n",
       "    .dataframe tbody tr th {\n",
       "        vertical-align: top;\n",
       "    }\n",
       "\n",
       "    .dataframe thead th {\n",
       "        text-align: right;\n",
       "    }\n",
       "</style>\n",
       "<table border=\"1\" class=\"dataframe\">\n",
       "  <thead>\n",
       "    <tr style=\"text-align: right;\">\n",
       "      <th></th>\n",
       "      <th>author</th>\n",
       "      <th>num_comments</th>\n",
       "      <th>permalink</th>\n",
       "      <th>score</th>\n",
       "      <th>selftext</th>\n",
       "      <th>subreddit</th>\n",
       "      <th>title</th>\n",
       "    </tr>\n",
       "  </thead>\n",
       "  <tbody>\n",
       "    <tr>\n",
       "      <th>5467</th>\n",
       "      <td>Pictionfulp329</td>\n",
       "      <td>2</td>\n",
       "      <td>/r/AntiJokes/comments/9vfn4l/im_not_a_virgin_but/</td>\n",
       "      <td>1</td>\n",
       "      <td>I play fortnite</td>\n",
       "      <td>AntiJokes</td>\n",
       "      <td>I'm not a virgin but</td>\n",
       "    </tr>\n",
       "    <tr>\n",
       "      <th>5468</th>\n",
       "      <td>PapaGynther</td>\n",
       "      <td>3</td>\n",
       "      <td>/r/AntiJokes/comments/9vb8w7/some_people_say_t...</td>\n",
       "      <td>10</td>\n",
       "      <td>...Somalia doesn't have a functioning government</td>\n",
       "      <td>AntiJokes</td>\n",
       "      <td>Some people say that polar bears are the cutes...</td>\n",
       "    </tr>\n",
       "    <tr>\n",
       "      <th>5469</th>\n",
       "      <td>dgrubbnasty</td>\n",
       "      <td>3</td>\n",
       "      <td>/r/AntiJokes/comments/9vcczx/what_do_you_call_...</td>\n",
       "      <td>5</td>\n",
       "      <td>Blind.</td>\n",
       "      <td>AntiJokes</td>\n",
       "      <td>What do you call a fish with no eyes?</td>\n",
       "    </tr>\n",
       "    <tr>\n",
       "      <th>5470</th>\n",
       "      <td>urmomsfart</td>\n",
       "      <td>2</td>\n",
       "      <td>/r/AntiJokes/comments/9v7ptz/even_stevie_wonde...</td>\n",
       "      <td>52</td>\n",
       "      <td>And he's *black.*</td>\n",
       "      <td>AntiJokes</td>\n",
       "      <td>Even Stevie Wonder can read sheet music better...</td>\n",
       "    </tr>\n",
       "    <tr>\n",
       "      <th>5471</th>\n",
       "      <td>Chapeau-Melon</td>\n",
       "      <td>0</td>\n",
       "      <td>/r/AntiJokes/comments/9vdgt2/i_went_the_saudi_...</td>\n",
       "      <td>5</td>\n",
       "      <td></td>\n",
       "      <td>AntiJokes</td>\n",
       "      <td>I went the Saudi Arabia embassy</td>\n",
       "    </tr>\n",
       "  </tbody>\n",
       "</table>\n",
       "</div>"
      ],
      "text/plain": [
       "              author  num_comments  \\\n",
       "5467  Pictionfulp329             2   \n",
       "5468     PapaGynther             3   \n",
       "5469     dgrubbnasty             3   \n",
       "5470      urmomsfart             2   \n",
       "5471   Chapeau-Melon             0   \n",
       "\n",
       "                                              permalink  score  \\\n",
       "5467  /r/AntiJokes/comments/9vfn4l/im_not_a_virgin_but/      1   \n",
       "5468  /r/AntiJokes/comments/9vb8w7/some_people_say_t...     10   \n",
       "5469  /r/AntiJokes/comments/9vcczx/what_do_you_call_...      5   \n",
       "5470  /r/AntiJokes/comments/9v7ptz/even_stevie_wonde...     52   \n",
       "5471  /r/AntiJokes/comments/9vdgt2/i_went_the_saudi_...      5   \n",
       "\n",
       "                                              selftext  subreddit  \\\n",
       "5467                                  I play fortnite   AntiJokes   \n",
       "5468  ...Somalia doesn't have a functioning government  AntiJokes   \n",
       "5469                                            Blind.  AntiJokes   \n",
       "5470                                 And he's *black.*  AntiJokes   \n",
       "5471                                                    AntiJokes   \n",
       "\n",
       "                                                  title  \n",
       "5467                               I'm not a virgin but  \n",
       "5468  Some people say that polar bears are the cutes...  \n",
       "5469              What do you call a fish with no eyes?  \n",
       "5470  Even Stevie Wonder can read sheet music better...  \n",
       "5471                    I went the Saudi Arabia embassy  "
      ]
     },
     "execution_count": 25,
     "metadata": {},
     "output_type": "execute_result"
    }
   ],
   "source": [
    "df.tail()"
   ]
  },
  {
   "cell_type": "markdown",
   "metadata": {},
   "source": [
    "_Using the Reddit API, I was able to secure about 5000+ posts from the /r/AntiJokes subreddit. This data, exported to a .csv file, will need to be cleaned and preprocessed in a later notebook._"
   ]
  }
 ],
 "metadata": {
  "kernelspec": {
   "display_name": "Python 3",
   "language": "python",
   "name": "python3"
  },
  "language_info": {
   "codemirror_mode": {
    "name": "ipython",
    "version": 3
   },
   "file_extension": ".py",
   "mimetype": "text/x-python",
   "name": "python",
   "nbconvert_exporter": "python",
   "pygments_lexer": "ipython3",
   "version": "3.6.6"
  }
 },
 "nbformat": 4,
 "nbformat_minor": 2
}
