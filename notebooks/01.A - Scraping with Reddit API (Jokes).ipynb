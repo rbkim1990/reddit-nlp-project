{
 "cells": [
  {
   "cell_type": "markdown",
   "metadata": {},
   "source": [
    "# Data Collection from Reddit (/r/Jokes)"
   ]
  },
  {
   "cell_type": "markdown",
   "metadata": {},
   "source": [
    "_This notebook is dedicated to collecting data from the Reddit API. For this specific project, I have decided to compare the two subreddits, /r/Jokes and /r/AntiJokes. The motivation for choosing these two subreddits is twofold: one, to see if I can use machine learning classification models to distinguish if a post if from one of the two subreddits and two, to begin thinking about whether or not humor is something that can be reduced to an algorithm of word counting. I realize that the second goal is extremely lofty and is way beyond the scope of this project, but I hope to gain even a little bit of insight._ "
   ]
  },
  {
   "cell_type": "code",
   "execution_count": 1,
   "metadata": {},
   "outputs": [],
   "source": [
    "import requests\n",
    "import time\n",
    "import pandas as pd"
   ]
  },
  {
   "cell_type": "code",
   "execution_count": 20,
   "metadata": {},
   "outputs": [],
   "source": [
    "headers = {'User-agent' : 'Roy Bot 0.6'}"
   ]
  },
  {
   "cell_type": "code",
   "execution_count": null,
   "metadata": {
    "scrolled": true
   },
   "outputs": [],
   "source": [
    "# ['selftext'] returns content of the post\n",
    "# ['subreddit'] returns the subreddit, which is the target\n",
    "# ['title'] returns the title\n",
    "# ['score'] returns upvotes - downvotes\n",
    "# ['permalink'] returns the permanent link to get comments\n",
    "# ['author'] returns the name of the author of the post\n",
    "# ['num_comments'] returns the number of comments"
   ]
  },
  {
   "cell_type": "code",
   "execution_count": 4,
   "metadata": {},
   "outputs": [],
   "source": [
    "posts = []\n",
    "after = None"
   ]
  },
  {
   "cell_type": "code",
   "execution_count": 21,
   "metadata": {
    "scrolled": true
   },
   "outputs": [
    {
     "name": "stdout",
     "output_type": "stream",
     "text": [
      "0\n",
      "1\n",
      "2\n",
      "3\n",
      "4\n",
      "5\n",
      "6\n",
      "7\n",
      "8\n",
      "9\n",
      "10\n",
      "11\n",
      "12\n",
      "13\n",
      "14\n",
      "15\n",
      "16\n",
      "17\n",
      "18\n",
      "19\n",
      "20\n",
      "21\n",
      "22\n",
      "23\n",
      "24\n",
      "25\n",
      "26\n",
      "27\n",
      "28\n",
      "29\n",
      "30\n",
      "31\n",
      "32\n",
      "33\n",
      "34\n",
      "35\n"
     ]
    },
    {
     "ename": "IndexError",
     "evalue": "list index out of range",
     "output_type": "error",
     "traceback": [
      "\u001b[0;31m---------------------------------------------------------------------------\u001b[0m",
      "\u001b[0;31mIndexError\u001b[0m                                Traceback (most recent call last)",
      "\u001b[0;32m<ipython-input-21-35e7e1475bf3>\u001b[0m in \u001b[0;36m<module>\u001b[0;34m\u001b[0m\n\u001b[1;32m     11\u001b[0m         \u001b[0;32mfor\u001b[0m \u001b[0mj\u001b[0m \u001b[0;32min\u001b[0m \u001b[0mrange\u001b[0m\u001b[0;34m(\u001b[0m\u001b[0;36m25\u001b[0m\u001b[0;34m)\u001b[0m\u001b[0;34m:\u001b[0m\u001b[0;34m\u001b[0m\u001b[0m\n\u001b[1;32m     12\u001b[0m             \u001b[0mentry\u001b[0m \u001b[0;34m=\u001b[0m \u001b[0;34m{\u001b[0m\u001b[0;34m}\u001b[0m\u001b[0;34m\u001b[0m\u001b[0m\n\u001b[0;32m---> 13\u001b[0;31m             \u001b[0mentry\u001b[0m\u001b[0;34m[\u001b[0m\u001b[0;34m'selftext'\u001b[0m\u001b[0;34m]\u001b[0m \u001b[0;34m=\u001b[0m \u001b[0mdata\u001b[0m\u001b[0;34m[\u001b[0m\u001b[0;34m'data'\u001b[0m\u001b[0;34m]\u001b[0m\u001b[0;34m[\u001b[0m\u001b[0;34m'children'\u001b[0m\u001b[0;34m]\u001b[0m\u001b[0;34m[\u001b[0m\u001b[0mj\u001b[0m\u001b[0;34m]\u001b[0m\u001b[0;34m[\u001b[0m\u001b[0;34m'data'\u001b[0m\u001b[0;34m]\u001b[0m\u001b[0;34m[\u001b[0m\u001b[0;34m'selftext'\u001b[0m\u001b[0;34m]\u001b[0m\u001b[0;34m\u001b[0m\u001b[0m\n\u001b[0m\u001b[1;32m     14\u001b[0m             \u001b[0mentry\u001b[0m\u001b[0;34m[\u001b[0m\u001b[0;34m'subreddit'\u001b[0m\u001b[0;34m]\u001b[0m \u001b[0;34m=\u001b[0m \u001b[0mdata\u001b[0m\u001b[0;34m[\u001b[0m\u001b[0;34m'data'\u001b[0m\u001b[0;34m]\u001b[0m\u001b[0;34m[\u001b[0m\u001b[0;34m'children'\u001b[0m\u001b[0;34m]\u001b[0m\u001b[0;34m[\u001b[0m\u001b[0mj\u001b[0m\u001b[0;34m]\u001b[0m\u001b[0;34m[\u001b[0m\u001b[0;34m'data'\u001b[0m\u001b[0;34m]\u001b[0m\u001b[0;34m[\u001b[0m\u001b[0;34m'subreddit'\u001b[0m\u001b[0;34m]\u001b[0m\u001b[0;34m\u001b[0m\u001b[0m\n\u001b[1;32m     15\u001b[0m             \u001b[0mentry\u001b[0m\u001b[0;34m[\u001b[0m\u001b[0;34m'title'\u001b[0m\u001b[0;34m]\u001b[0m \u001b[0;34m=\u001b[0m \u001b[0mdata\u001b[0m\u001b[0;34m[\u001b[0m\u001b[0;34m'data'\u001b[0m\u001b[0;34m]\u001b[0m\u001b[0;34m[\u001b[0m\u001b[0;34m'children'\u001b[0m\u001b[0;34m]\u001b[0m\u001b[0;34m[\u001b[0m\u001b[0mj\u001b[0m\u001b[0;34m]\u001b[0m\u001b[0;34m[\u001b[0m\u001b[0;34m'data'\u001b[0m\u001b[0;34m]\u001b[0m\u001b[0;34m[\u001b[0m\u001b[0;34m'title'\u001b[0m\u001b[0;34m]\u001b[0m\u001b[0;34m\u001b[0m\u001b[0m\n",
      "\u001b[0;31mIndexError\u001b[0m: list index out of range"
     ]
    }
   ],
   "source": [
    "for i in range(40):\n",
    "    print(i)\n",
    "    if after == None:\n",
    "        params = {}\n",
    "    else: \n",
    "        params = {'after' : after}\n",
    "    url = \"https://www.reddit.com/r/jokes.json\"\n",
    "    res = requests.get(url, params=params, headers=headers)\n",
    "    if res.status_code == 200:\n",
    "        data = res.json()\n",
    "        for j in range(25):\n",
    "            entry = {}\n",
    "            entry['selftext'] = data['data']['children'][j]['data']['selftext']\n",
    "            entry['subreddit'] = data['data']['children'][j]['data']['subreddit']\n",
    "            entry['title'] = data['data']['children'][j]['data']['title']\n",
    "            entry['score'] = data['data']['children'][j]['data']['score']\n",
    "            entry['permalink'] = data['data']['children'][j]['data']['permalink']\n",
    "            entry['author'] = data['data']['children'][j]['data']['author']\n",
    "            entry['num_comments'] = data['data']['children'][j]['data']['num_comments']\n",
    "            posts.append(entry)\n",
    "            after = data['data']['after']\n",
    "    else: \n",
    "        print(res.status_code)\n",
    "        break\n",
    "    time.sleep(1)"
   ]
  },
  {
   "cell_type": "code",
   "execution_count": 22,
   "metadata": {
    "scrolled": false
   },
   "outputs": [
    {
     "data": {
      "text/plain": [
       "5270"
      ]
     },
     "execution_count": 22,
     "metadata": {},
     "output_type": "execute_result"
    }
   ],
   "source": [
    "len(posts)"
   ]
  },
  {
   "cell_type": "code",
   "execution_count": 23,
   "metadata": {},
   "outputs": [],
   "source": [
    "df = pd.DataFrame(posts)"
   ]
  },
  {
   "cell_type": "markdown",
   "metadata": {},
   "source": [
    "_I decided to collect a little over 5000 posts for this project, for each subreddit. I'm collecting as much as possible because I think there will be overlap jokes, which means I have an even less amount of unique posts._"
   ]
  },
  {
   "cell_type": "code",
   "execution_count": 24,
   "metadata": {},
   "outputs": [],
   "source": [
    "df.to_csv('./datasets/jokes.csv', index=False)"
   ]
  },
  {
   "cell_type": "code",
   "execution_count": 25,
   "metadata": {},
   "outputs": [
    {
     "data": {
      "text/html": [
       "<div>\n",
       "<style scoped>\n",
       "    .dataframe tbody tr th:only-of-type {\n",
       "        vertical-align: middle;\n",
       "    }\n",
       "\n",
       "    .dataframe tbody tr th {\n",
       "        vertical-align: top;\n",
       "    }\n",
       "\n",
       "    .dataframe thead th {\n",
       "        text-align: right;\n",
       "    }\n",
       "</style>\n",
       "<table border=\"1\" class=\"dataframe\">\n",
       "  <thead>\n",
       "    <tr style=\"text-align: right;\">\n",
       "      <th></th>\n",
       "      <th>author</th>\n",
       "      <th>num_comments</th>\n",
       "      <th>permalink</th>\n",
       "      <th>score</th>\n",
       "      <th>selftext</th>\n",
       "      <th>subreddit</th>\n",
       "      <th>title</th>\n",
       "    </tr>\n",
       "  </thead>\n",
       "  <tbody>\n",
       "    <tr>\n",
       "      <th>0</th>\n",
       "      <td>love_the_heat</td>\n",
       "      <td>270</td>\n",
       "      <td>/r/Jokes/comments/7c3dev/by_popular_demand_we_...</td>\n",
       "      <td>3412</td>\n",
       "      <td>**Guaranteed reposts.** \\n\\nhttps://discord.gg...</td>\n",
       "      <td>Jokes</td>\n",
       "      <td>By popular demand, we now have a discord serve...</td>\n",
       "    </tr>\n",
       "    <tr>\n",
       "      <th>1</th>\n",
       "      <td>Carljohnson09</td>\n",
       "      <td>219</td>\n",
       "      <td>/r/Jokes/comments/a629g5/husband_was_screwing_...</td>\n",
       "      <td>17201</td>\n",
       "      <td>Wife: (sobbing) You can't do this to me!\\n\\nHu...</td>\n",
       "      <td>Jokes</td>\n",
       "      <td>Husband was screwing his secretary up the ass ...</td>\n",
       "    </tr>\n",
       "    <tr>\n",
       "      <th>2</th>\n",
       "      <td>dandan_56</td>\n",
       "      <td>48</td>\n",
       "      <td>/r/Jokes/comments/a63k1m/why_does_batman_wear_...</td>\n",
       "      <td>1419</td>\n",
       "      <td>Batman doesn't want to get shot.\\n\\nWhy does R...</td>\n",
       "      <td>Jokes</td>\n",
       "      <td>Why does Batman wear Dark clothing?</td>\n",
       "    </tr>\n",
       "    <tr>\n",
       "      <th>3</th>\n",
       "      <td>JustKeepScrollingDad</td>\n",
       "      <td>203</td>\n",
       "      <td>/r/Jokes/comments/a605lp/a_man_is_in_court_the...</td>\n",
       "      <td>15281</td>\n",
       "      <td>\"Guilty\", said the man in the dock. At this po...</td>\n",
       "      <td>Jokes</td>\n",
       "      <td>A man is in court. The Judges says,\"on the 3rd...</td>\n",
       "    </tr>\n",
       "    <tr>\n",
       "      <th>4</th>\n",
       "      <td>boced</td>\n",
       "      <td>350</td>\n",
       "      <td>/r/Jokes/comments/a5xqnf/a_poor_old_lady_was_f...</td>\n",
       "      <td>17905</td>\n",
       "      <td>As she rummaged through her dusty belongings, ...</td>\n",
       "      <td>Jokes</td>\n",
       "      <td>A poor old lady was forced to sell her valuabl...</td>\n",
       "    </tr>\n",
       "  </tbody>\n",
       "</table>\n",
       "</div>"
      ],
      "text/plain": [
       "                 author  num_comments  \\\n",
       "0         love_the_heat           270   \n",
       "1         Carljohnson09           219   \n",
       "2             dandan_56            48   \n",
       "3  JustKeepScrollingDad           203   \n",
       "4                 boced           350   \n",
       "\n",
       "                                           permalink  score  \\\n",
       "0  /r/Jokes/comments/7c3dev/by_popular_demand_we_...   3412   \n",
       "1  /r/Jokes/comments/a629g5/husband_was_screwing_...  17201   \n",
       "2  /r/Jokes/comments/a63k1m/why_does_batman_wear_...   1419   \n",
       "3  /r/Jokes/comments/a605lp/a_man_is_in_court_the...  15281   \n",
       "4  /r/Jokes/comments/a5xqnf/a_poor_old_lady_was_f...  17905   \n",
       "\n",
       "                                            selftext subreddit  \\\n",
       "0  **Guaranteed reposts.** \\n\\nhttps://discord.gg...     Jokes   \n",
       "1  Wife: (sobbing) You can't do this to me!\\n\\nHu...     Jokes   \n",
       "2  Batman doesn't want to get shot.\\n\\nWhy does R...     Jokes   \n",
       "3  \"Guilty\", said the man in the dock. At this po...     Jokes   \n",
       "4  As she rummaged through her dusty belongings, ...     Jokes   \n",
       "\n",
       "                                               title  \n",
       "0  By popular demand, we now have a discord serve...  \n",
       "1  Husband was screwing his secretary up the ass ...  \n",
       "2                Why does Batman wear Dark clothing?  \n",
       "3  A man is in court. The Judges says,\"on the 3rd...  \n",
       "4  A poor old lady was forced to sell her valuabl...  "
      ]
     },
     "execution_count": 25,
     "metadata": {},
     "output_type": "execute_result"
    }
   ],
   "source": [
    "df.head()"
   ]
  },
  {
   "cell_type": "code",
   "execution_count": 27,
   "metadata": {
    "scrolled": false
   },
   "outputs": [
    {
     "data": {
      "text/html": [
       "<div>\n",
       "<style scoped>\n",
       "    .dataframe tbody tr th:only-of-type {\n",
       "        vertical-align: middle;\n",
       "    }\n",
       "\n",
       "    .dataframe tbody tr th {\n",
       "        vertical-align: top;\n",
       "    }\n",
       "\n",
       "    .dataframe thead th {\n",
       "        text-align: right;\n",
       "    }\n",
       "</style>\n",
       "<table border=\"1\" class=\"dataframe\">\n",
       "  <thead>\n",
       "    <tr style=\"text-align: right;\">\n",
       "      <th></th>\n",
       "      <th>author</th>\n",
       "      <th>num_comments</th>\n",
       "      <th>permalink</th>\n",
       "      <th>score</th>\n",
       "      <th>selftext</th>\n",
       "      <th>subreddit</th>\n",
       "      <th>title</th>\n",
       "    </tr>\n",
       "  </thead>\n",
       "  <tbody>\n",
       "    <tr>\n",
       "      <th>5265</th>\n",
       "      <td>naqibam</td>\n",
       "      <td>1</td>\n",
       "      <td>/r/Jokes/comments/a5ivg0/there_were_four_peopl...</td>\n",
       "      <td>5</td>\n",
       "      <td>A few hours into the flight, the pilot comes o...</td>\n",
       "      <td>Jokes</td>\n",
       "      <td>There were four people on an airplane. The pil...</td>\n",
       "    </tr>\n",
       "    <tr>\n",
       "      <th>5266</th>\n",
       "      <td>BoisonBerries</td>\n",
       "      <td>7</td>\n",
       "      <td>/r/Jokes/comments/a5fqr2/you_know_what_the_rea...</td>\n",
       "      <td>20</td>\n",
       "      <td>One sees you later, the other sees you in a wh...</td>\n",
       "      <td>Jokes</td>\n",
       "      <td>You know what the REAL difference between an a...</td>\n",
       "    </tr>\n",
       "    <tr>\n",
       "      <th>5267</th>\n",
       "      <td>ThePotatoTheory</td>\n",
       "      <td>1</td>\n",
       "      <td>/r/Jokes/comments/a5gpbw/what_was_the_best_par...</td>\n",
       "      <td>12</td>\n",
       "      <td>The red flags never came as a surprise.</td>\n",
       "      <td>Jokes</td>\n",
       "      <td>What was the best part of dating in Soviet Rus...</td>\n",
       "    </tr>\n",
       "    <tr>\n",
       "      <th>5268</th>\n",
       "      <td>daveguitaruno</td>\n",
       "      <td>0</td>\n",
       "      <td>/r/Jokes/comments/a5karl/i_used_to_work_in_a_m...</td>\n",
       "      <td>2</td>\n",
       "      <td>I asked for a pay rise, but management stuck t...</td>\n",
       "      <td>Jokes</td>\n",
       "      <td>I used to work in a messy glue and munitions f...</td>\n",
       "    </tr>\n",
       "    <tr>\n",
       "      <th>5269</th>\n",
       "      <td>Jesse0016</td>\n",
       "      <td>54</td>\n",
       "      <td>/r/Jokes/comments/a4edkb/why_does_killing_peop...</td>\n",
       "      <td>2632</td>\n",
       "      <td>It’s the only time I’m ever wanted</td>\n",
       "      <td>Jokes</td>\n",
       "      <td>Why does killing people in GTA make me happy?</td>\n",
       "    </tr>\n",
       "  </tbody>\n",
       "</table>\n",
       "</div>"
      ],
      "text/plain": [
       "               author  num_comments  \\\n",
       "5265          naqibam             1   \n",
       "5266    BoisonBerries             7   \n",
       "5267  ThePotatoTheory             1   \n",
       "5268    daveguitaruno             0   \n",
       "5269        Jesse0016            54   \n",
       "\n",
       "                                              permalink  score  \\\n",
       "5265  /r/Jokes/comments/a5ivg0/there_were_four_peopl...      5   \n",
       "5266  /r/Jokes/comments/a5fqr2/you_know_what_the_rea...     20   \n",
       "5267  /r/Jokes/comments/a5gpbw/what_was_the_best_par...     12   \n",
       "5268  /r/Jokes/comments/a5karl/i_used_to_work_in_a_m...      2   \n",
       "5269  /r/Jokes/comments/a4edkb/why_does_killing_peop...   2632   \n",
       "\n",
       "                                               selftext subreddit  \\\n",
       "5265  A few hours into the flight, the pilot comes o...     Jokes   \n",
       "5266  One sees you later, the other sees you in a wh...     Jokes   \n",
       "5267            The red flags never came as a surprise.     Jokes   \n",
       "5268  I asked for a pay rise, but management stuck t...     Jokes   \n",
       "5269                 It’s the only time I’m ever wanted     Jokes   \n",
       "\n",
       "                                                  title  \n",
       "5265  There were four people on an airplane. The pil...  \n",
       "5266  You know what the REAL difference between an a...  \n",
       "5267  What was the best part of dating in Soviet Rus...  \n",
       "5268  I used to work in a messy glue and munitions f...  \n",
       "5269      Why does killing people in GTA make me happy?  "
      ]
     },
     "execution_count": 27,
     "metadata": {},
     "output_type": "execute_result"
    }
   ],
   "source": [
    "df.tail()"
   ]
  },
  {
   "cell_type": "markdown",
   "metadata": {},
   "source": [
    "_Using the Reddit API, I was able to secure about 5000+ posts from the /r/Jokes subreddit. This data, exported to a .csv file, will need to be cleaned and preprocessed in a later notebook._"
   ]
  }
 ],
 "metadata": {
  "kernelspec": {
   "display_name": "Python 3",
   "language": "python",
   "name": "python3"
  },
  "language_info": {
   "codemirror_mode": {
    "name": "ipython",
    "version": 3
   },
   "file_extension": ".py",
   "mimetype": "text/x-python",
   "name": "python",
   "nbconvert_exporter": "python",
   "pygments_lexer": "ipython3",
   "version": "3.6.6"
  }
 },
 "nbformat": 4,
 "nbformat_minor": 2
}
